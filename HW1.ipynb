{
  "nbformat": 4,
  "nbformat_minor": 0,
  "metadata": {
    "colab": {
      "provenance": [],
      "authorship_tag": "ABX9TyOussCv4l9yxfeFsbYXgJzk",
      "include_colab_link": true
    },
    "kernelspec": {
      "name": "python3",
      "display_name": "Python 3"
    },
    "language_info": {
      "name": "python"
    }
  },
  "cells": [
    {
      "cell_type": "markdown",
      "metadata": {
        "id": "view-in-github",
        "colab_type": "text"
      },
      "source": [
        "<a href=\"https://colab.research.google.com/github/VasavSrivastava/MAT421/blob/main/HW1.ipynb\" target=\"_parent\"><img src=\"https://colab.research.google.com/assets/colab-badge.svg\" alt=\"Open In Colab\"/></a>"
      ]
    },
    {
      "cell_type": "markdown",
      "source": [
        "#**9.1 Base-N and Binary**\n",
        "\n",
        "Base-N is a numeral system used to represent numbers, where $N$ denotes the base or the number of unique digits available, ranging from $0$ to $N-1$. Each digit in a Base-N number represents a coefficient of a corresponding power of $N$, allowing for flexible representation across different bases, such as Base-10 (decimal), Base-2 (binary), or Base-3 (ternary). Binary, specifically, is the Base-2 numeral system, where numbers are represented using only two digits: $0$ and $1$. Each digit in binary corresponds to a coefficient for a power of $2$. Binary is fundamental to computer systems as it aligns with digital logic operations and hardware capabilities, where arithmetic and logical operations on binary digits (bits) can be performed efficiently using AND, OR, and NOT operations.\n"
      ],
      "metadata": {
        "id": "fb23QW86ROYF"
      }
    },
    {
      "cell_type": "code",
      "execution_count": 1,
      "metadata": {
        "colab": {
          "base_uri": "https://localhost:8080/"
        },
        "id": "VdPGIKwoRNmp",
        "outputId": "f53d7572-97df-4713-efff-987fb10b7607"
      },
      "outputs": [
        {
          "output_type": "stream",
          "name": "stdout",
          "text": [
            "Decimal 37 in Binary: 100101\n",
            "Binary 100101 in Decimal: 37\n",
            "Decimal 37 in Base-3: 1101\n",
            "Base-3 1101 in Decimal: 37\n"
          ]
        }
      ],
      "source": [
        "# Example: Base-N and Binary Conversions\n",
        "\n",
        "# Convert a number from decimal (Base-10) to binary (Base-2)\n",
        "decimal_number = 37\n",
        "binary_representation = bin(decimal_number)[2:]  # Remove the '0b' prefix\n",
        "print(f\"Decimal {decimal_number} in Binary: {binary_representation}\")\n",
        "\n",
        "# Convert a number from binary (Base-2) to decimal (Base-10)\n",
        "binary_number = \"100101\"\n",
        "decimal_representation = int(binary_number, 2)\n",
        "print(f\"Binary {binary_number} in Decimal: {decimal_representation}\")\n",
        "\n",
        "# Convert a number from decimal (Base-10) to another base (e.g., Base-3)\n",
        "def decimal_to_base_n(decimal, base):\n",
        "    if decimal == 0:\n",
        "        return \"0\"\n",
        "    digits = []\n",
        "    while decimal:\n",
        "        digits.append(str(decimal % base))\n",
        "        decimal //= base\n",
        "    return ''.join(digits[::-1])\n",
        "\n",
        "base_3_representation = decimal_to_base_n(37, 3)\n",
        "print(f\"Decimal {decimal_number} in Base-3: {base_3_representation}\")\n",
        "\n",
        "# Convert a number from Base-N (e.g., Base-3) to decimal (Base-10)\n",
        "base_3_number = \"1101\"\n",
        "decimal_from_base_3 = int(base_3_number, 3)\n",
        "print(f\"Base-3 {base_3_number} in Decimal: {decimal_from_base_3}\")"
      ]
    },
    {
      "cell_type": "markdown",
      "source": [
        "#**9.2 Floating Point Numbers**\n",
        "\n",
        "Floating point numbers are a numerical representation used in computing to provide a balance between range and precision for a fixed number of bits. Defined by the IEEE754 standard, a 64-bit floating point number consists of three parts: a sign bit ($s$), an exponent ($e$), and a fraction ($f$). The number is represented as $n = (-1)^s \\cdot 2^{e-1023} \\cdot (1+f)$, where $e$ determines the power of 2 and $f$ represents the fractional coefficient. This format supports both extremely large and very small values by varying the spacing (or \"gap\") between representable numbers based on their magnitude. Special rules allow subnormal numbers for very small values and reserve certain values of $e$ for infinity, negative infinity, and \"Not a Number\" (NaN). Floating point numbers enable efficient calculations in engineering and science, accommodating wide ranges and dynamic precision."
      ],
      "metadata": {
        "id": "DtPpn1VVVOEm"
      }
    },
    {
      "cell_type": "code",
      "source": [
        "import sys\n",
        "import numpy as np\n",
        "\n",
        "# Display float information (based on IEEE754)\n",
        "print(\"Float Information (IEEE754):\")\n",
        "print(sys.float_info)\n",
        "\n",
        "# Example 1: Largest and smallest positive normalized numbers\n",
        "largest = sys.float_info.max\n",
        "smallest = sys.float_info.min\n",
        "print(f\"\\nLargest positive float: {largest}\")\n",
        "print(f\"Smallest positive normalized float: {smallest}\")\n",
        "\n",
        "# Example 2: Spacing or \"gap\" at a given value\n",
        "value = 1e9  # A large number\n",
        "gap = np.spacing(value)\n",
        "print(f\"\\nGap at {value}: {gap}\")\n",
        "print(f\"Adding less than half the gap to {value} gives the same number: {value == (value + gap / 3)}\")\n",
        "\n",
        "# Example 3: Overflow and underflow\n",
        "print(\"\\nOverflow and Underflow:\")\n",
        "overflow_example = largest + largest\n",
        "print(f\"Largest float + Largest float results in: {overflow_example}\")  # Should be 'inf'\n",
        "\n",
        "underflow_example = 2 ** -1075  # Smaller than the smallest subnormal number\n",
        "print(f\"2^(-1075) underflows to: {underflow_example}\")\n",
        "print(f\"2^(-1074): {2 ** -1074}\")  # Smallest subnormal number\n",
        "\n",
        "# Example 4: Floating point representation of 15.0 in IEEE754\n",
        "s = 0  # Sign bit (positive)\n",
        "e = 1023 + 3  # Exponent (bias + actual exponent)\n",
        "f = 0.875  # Fraction (15/8 - 1)\n",
        "binary_representation = f\"0 {e:011b} {''.join('1' if x else '0' for x in [(f*2**i) % 2 >= 1 for i in range(1, 53)])}\"\n",
        "print(f\"\\nIEEE754 representation of 15.0: {binary_representation}\")"
      ],
      "metadata": {
        "id": "F4kzW39_WeKA"
      },
      "execution_count": null,
      "outputs": []
    },
    {
      "cell_type": "markdown",
      "source": [
        "#**9.3 Round-off Errors**\n",
        "\n",
        "Round-off errors occur due to the limitations of floating point representation in computers, where numbers are approximated using a finite number of bytes. This introduces a difference between the computed approximation and the true value, which can impact numerical calculations. Round-off errors commonly arise from the inexact representation of numbers, accumulated rounding, and floating point arithmetic.\n",
        "\n",
        "##### **Representation Error**  \n",
        "Representation error is a type of round-off error caused by the inability to represent certain numbers, such as $\\pi$ or $\\frac{1}{3}$, exactly using a finite number of digits. For example, using $\\pi \\approx 3.14159265$ results in a small error compared to the true infinite value. Similarly, repeated rounding magnifies errors, as seen when a value like $4.845$ is rounded multiple times.\n",
        "\n",
        "##### **Round-off Error by Floating Point Arithmetic**  \n",
        "Floating point arithmetic can introduce small discrepancies due to the approximate representation of numbers. For instance, calculations like $4.9 - 4.845$ may not yield exactly $0.055$ but instead result in $0.055000000000000604$. Similarly, summing values like $0.1 + 0.2 + 0.3$ does not exactly equal $0.6$, demonstrating the inherent imprecision in floating point arithmetic.\n",
        "\n",
        "##### **Accumulation of Round-off Error**  \n",
        "Round-off errors can accumulate during sequences of calculations, magnifying the discrepancy. For example, repeatedly adding and subtracting $\\frac{1}{3}$ to a starting value of $1$ results in increasing deviations from the original value as the number of iterations grows. While the discrepancy is small in each step, it compounds over many iterations, highlighting the impact of accumulated round-off errors.\n"
      ],
      "metadata": {
        "id": "0kU1rUL6WsMV"
      }
    },
    {
      "cell_type": "code",
      "source": [
        "# Representation Error Example\n",
        "pi_approx = 3.14159265\n",
        "true_pi = 3.141592653589793  # Python's math.pi provides a more precise value\n",
        "representation_error = abs(true_pi - pi_approx)\n",
        "print(f\"Representation Error for pi: {representation_error}\")\n",
        "\n",
        "# Round-off Error in Floating Point Arithmetic\n",
        "result = 4.9 - 4.845\n",
        "expected = 0.055\n",
        "print(f\"4.9 - 4.845 = {result} (Expected: {expected})\")\n",
        "print(f\"Is the result equal to the expected value? {result == expected}\")\n",
        "\n",
        "# Summation Error Example\n",
        "sum_result = 0.1 + 0.2 + 0.3\n",
        "print(f\"0.1 + 0.2 + 0.3 = {sum_result} (Expected: 0.6)\")\n",
        "print(f\"Is the sum exactly 0.6? {sum_result == 0.6}\")\n",
        "\n",
        "# Using round function to compare inexact values\n",
        "rounded_sum = round(sum_result, 5)\n",
        "rounded_expected = round(0.6, 5)\n",
        "print(f\"Rounded Sum: {rounded_sum}, Rounded Expected: {rounded_expected}\")\n",
        "print(f\"Are the rounded values equal? {rounded_sum == rounded_expected}\")\n",
        "\n",
        "# Accumulation of Round-off Errors\n",
        "def add_and_subtract(iterations):\n",
        "    result = 1.0\n",
        "    for _ in range(iterations):\n",
        "        result += 1/3\n",
        "    for _ in range(iterations):\n",
        "        result -= 1/3\n",
        "    return result\n",
        "\n",
        "iterations_list = [1, 100, 1000, 10000]\n",
        "for iterations in iterations_list:\n",
        "    result = add_and_subtract(iterations)\n",
        "    print(f\"After {iterations} iterations, result = {result}\")\n"
      ],
      "metadata": {
        "colab": {
          "base_uri": "https://localhost:8080/"
        },
        "id": "tZVS4S9QaSgr",
        "outputId": "712bf39b-2924-4285-80a3-3c4f7ce145e4"
      },
      "execution_count": 2,
      "outputs": [
        {
          "output_type": "stream",
          "name": "stdout",
          "text": [
            "Representation Error for pi: 3.589792907376932e-09\n",
            "4.9 - 4.845 = 0.055000000000000604 (Expected: 0.055)\n",
            "Is the result equal to the expected value? False\n",
            "0.1 + 0.2 + 0.3 = 0.6000000000000001 (Expected: 0.6)\n",
            "Is the sum exactly 0.6? False\n",
            "Rounded Sum: 0.6, Rounded Expected: 0.6\n",
            "Are the rounded values equal? True\n",
            "After 1 iterations, result = 1.0\n",
            "After 100 iterations, result = 1.0000000000000002\n",
            "After 1000 iterations, result = 1.0000000000000064\n",
            "After 10000 iterations, result = 1.0000000000001166\n"
          ]
        }
      ]
    }
  ]
}