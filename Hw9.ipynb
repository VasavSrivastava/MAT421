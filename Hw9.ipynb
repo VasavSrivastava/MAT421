{
  "nbformat": 4,
  "nbformat_minor": 0,
  "metadata": {
    "colab": {
      "provenance": [],
      "authorship_tag": "ABX9TyM8h6b52HY3sWuZtmCaKOyj",
      "include_colab_link": true
    },
    "kernelspec": {
      "name": "python3",
      "display_name": "Python 3"
    },
    "language_info": {
      "name": "python"
    }
  },
  "cells": [
    {
      "cell_type": "markdown",
      "metadata": {
        "id": "view-in-github",
        "colab_type": "text"
      },
      "source": [
        "<a href=\"https://colab.research.google.com/github/VasavSrivastava/MAT421/blob/main/Hw9.ipynb\" target=\"_parent\"><img src=\"https://colab.research.google.com/assets/colab-badge.svg\" alt=\"Open In Colab\"/></a>"
      ]
    },
    {
      "cell_type": "markdown",
      "source": [
        "# **Simpson’s Rule**\n",
        "\n",
        "**Simpson’s Rule** is a method for numerically approximating the definite integral of a function by fitting a quadratic polynomial through three consecutive points. It divides the interval $[a, b]$ into an even number of subintervals and approximates the area under the curve using parabolas. The approximation formula is:\n",
        "\n",
        "$$\n",
        "\\int_a^b f(x) \\, dx \\approx \\frac{h}{3} \\left[ f(x_0) + 4 \\sum_{\\text{odd } i=1}^{n-1} f(x_i) + 2 \\sum_{\\text{even } i=2}^{n-2} f(x_i) + f(x_n) \\right]\n",
        "$$\n",
        "\n",
        "where $h$ is the width of each subinterval. Simpson’s Rule provides an error of order $O(h^5)$ over a pair of subintervals and $O(h^4)$ across the entire interval, making it highly accurate for smooth functions.\n"
      ],
      "metadata": {
        "id": "yX90Lo2vhjDs"
      }
    },
    {
      "cell_type": "code",
      "execution_count": 2,
      "metadata": {
        "colab": {
          "base_uri": "https://localhost:8080/"
        },
        "id": "kC-nI4g0hiZd",
        "outputId": "43705010-8f41-402c-c78b-77f4d0489f21"
      },
      "outputs": [
        {
          "output_type": "stream",
          "name": "stdout",
          "text": [
            "Manual Simpson's Rule Approximation: 2.0001095173150043\n",
            "SciPy Simpson's Rule Approximation:  2.0001095173150043\n"
          ]
        }
      ],
      "source": [
        "import numpy as np\n",
        "from scipy.integrate import simpson\n",
        "\n",
        "# Define the function to integrate\n",
        "def f(x):\n",
        "    return np.sin(x)  # Example function\n",
        "\n",
        "# Integration limits\n",
        "a = 0\n",
        "b = np.pi\n",
        "n = 10  # Must be even for Simpson's Rule\n",
        "\n",
        "# Generate n+1 evenly spaced points\n",
        "x = np.linspace(a, b, n + 1)\n",
        "y = f(x)\n",
        "\n",
        "# Manual implementation of Simpson's Rule\n",
        "h = (b - a) / n\n",
        "manual_simpson = (h / 3) * (y[0] +\n",
        "                            4 * sum(y[1:n:2]) +\n",
        "                            2 * sum(y[2:n-1:2]) +\n",
        "                            y[n])\n",
        "\n",
        "# SciPy implementation (use keyword arguments)\n",
        "scipy_simpson = simpson(y=y, x=x)\n",
        "\n",
        "print(f\"Manual Simpson's Rule Approximation: {manual_simpson}\")\n",
        "print(f\"SciPy Simpson's Rule Approximation:  {scipy_simpson}\")"
      ]
    }
  ]
}